{
 "cells": [
  {
   "cell_type": "code",
   "execution_count": 15,
   "metadata": {},
   "outputs": [],
   "source": [
    "import uproot\n",
    "import pandas as pd\n",
    "import os\n",
    "from glob import glob\n",
    "os.chdir('/Users/walu/lle_25/RE03')"
   ]
  },
  {
   "cell_type": "code",
   "execution_count": 32,
   "metadata": {},
   "outputs": [],
   "source": [
    "# Open the ROOT file and access the tree\n",
    "file = uproot.open(\"build/SpectrumExtraction_t3.root\")\n",
    "tree = file[\"RE03\"]\n",
    "\n",
    "# Convert to pandas DataFrame\n",
    "df = tree.arrays(library=\"pd\")\n",
    "\n"
   ]
  },
  {
   "cell_type": "code",
   "execution_count": 40,
   "metadata": {},
   "outputs": [
    {
     "data": {
      "text/html": [
       "<div>\n",
       "<style scoped>\n",
       "    .dataframe tbody tr th:only-of-type {\n",
       "        vertical-align: middle;\n",
       "    }\n",
       "\n",
       "    .dataframe tbody tr th {\n",
       "        vertical-align: top;\n",
       "    }\n",
       "\n",
       "    .dataframe thead th {\n",
       "        text-align: right;\n",
       "    }\n",
       "</style>\n",
       "<table border=\"1\" class=\"dataframe\">\n",
       "  <thead>\n",
       "    <tr style=\"text-align: right;\">\n",
       "      <th></th>\n",
       "      <th>trackID</th>\n",
       "      <th>particleType</th>\n",
       "      <th>energy</th>\n",
       "      <th>phantomName</th>\n",
       "    </tr>\n",
       "  </thead>\n",
       "  <tbody>\n",
       "    <tr>\n",
       "      <th>0</th>\n",
       "      <td>113940</td>\n",
       "      <td>gamma</td>\n",
       "      <td>0.251123</td>\n",
       "      <td>Phantom2</td>\n",
       "    </tr>\n",
       "    <tr>\n",
       "      <th>1</th>\n",
       "      <td>113805</td>\n",
       "      <td>neutron</td>\n",
       "      <td>992.648528</td>\n",
       "      <td>Phantom2</td>\n",
       "    </tr>\n",
       "    <tr>\n",
       "      <th>2</th>\n",
       "      <td>81847</td>\n",
       "      <td>gamma</td>\n",
       "      <td>2.514413</td>\n",
       "      <td>Phantom2</td>\n",
       "    </tr>\n",
       "    <tr>\n",
       "      <th>3</th>\n",
       "      <td>24192</td>\n",
       "      <td>gamma</td>\n",
       "      <td>2.438023</td>\n",
       "      <td>Phantom2</td>\n",
       "    </tr>\n",
       "    <tr>\n",
       "      <th>4</th>\n",
       "      <td>96016</td>\n",
       "      <td>gamma</td>\n",
       "      <td>6.610919</td>\n",
       "      <td>Phantom2</td>\n",
       "    </tr>\n",
       "    <tr>\n",
       "      <th>5</th>\n",
       "      <td>96071</td>\n",
       "      <td>gamma</td>\n",
       "      <td>0.144089</td>\n",
       "      <td>Phantom2</td>\n",
       "    </tr>\n",
       "    <tr>\n",
       "      <th>6</th>\n",
       "      <td>96069</td>\n",
       "      <td>neutron</td>\n",
       "      <td>960.339672</td>\n",
       "      <td>Phantom2</td>\n",
       "    </tr>\n",
       "    <tr>\n",
       "      <th>7</th>\n",
       "      <td>106442</td>\n",
       "      <td>neutron</td>\n",
       "      <td>940.937591</td>\n",
       "      <td>Phantom2</td>\n",
       "    </tr>\n",
       "    <tr>\n",
       "      <th>8</th>\n",
       "      <td>106442</td>\n",
       "      <td>neutron</td>\n",
       "      <td>939.565784</td>\n",
       "      <td>Phantom2</td>\n",
       "    </tr>\n",
       "    <tr>\n",
       "      <th>9</th>\n",
       "      <td>119475</td>\n",
       "      <td>neutron</td>\n",
       "      <td>987.880373</td>\n",
       "      <td>Phantom3</td>\n",
       "    </tr>\n",
       "    <tr>\n",
       "      <th>10</th>\n",
       "      <td>154235</td>\n",
       "      <td>neutron</td>\n",
       "      <td>940.256623</td>\n",
       "      <td>Phantom2</td>\n",
       "    </tr>\n",
       "    <tr>\n",
       "      <th>11</th>\n",
       "      <td>171114</td>\n",
       "      <td>gamma</td>\n",
       "      <td>0.343541</td>\n",
       "      <td>Phantom2</td>\n",
       "    </tr>\n",
       "  </tbody>\n",
       "</table>\n",
       "</div>"
      ],
      "text/plain": [
       "    trackID  particleType      energy  phantomName\n",
       "0    113940         gamma    0.251123     Phantom2\n",
       "1    113805       neutron  992.648528     Phantom2\n",
       "2     81847         gamma    2.514413     Phantom2\n",
       "3     24192         gamma    2.438023     Phantom2\n",
       "4     96016         gamma    6.610919     Phantom2\n",
       "5     96071         gamma    0.144089     Phantom2\n",
       "6     96069       neutron  960.339672     Phantom2\n",
       "7    106442       neutron  940.937591     Phantom2\n",
       "8    106442       neutron  939.565784     Phantom2\n",
       "9    119475       neutron  987.880373     Phantom3\n",
       "10   154235       neutron  940.256623     Phantom2\n",
       "11   171114         gamma    0.343541     Phantom2"
      ]
     },
     "execution_count": 40,
     "metadata": {},
     "output_type": "execute_result"
    }
   ],
   "source": [
    "df"
   ]
  },
  {
   "cell_type": "code",
   "execution_count": 33,
   "metadata": {},
   "outputs": [
    {
     "name": "stderr",
     "output_type": "stream",
     "text": [
      "/Users/walu/jupyter_env/lib/python3.13/site-packages/awkward_pandas/array.py:120: DeprecationWarning: __array__ implementation doesn't accept a copy keyword, so passing copy=False failed. __array__ must implement 'dtype' and 'copy' keyword arguments.\n",
      "  return np.array(ak.is_none(self._data))\n"
     ]
    }
   ],
   "source": [
    "# Step 1: Load and stack all ROOT files into one big DataFrame\n",
    "all_dfs = []\n",
    "\n",
    "# Adjust path and pattern as needed\n",
    "for filepath in glob(\"build/SpectrumExtraction_t*.root\"):\n",
    "    file = uproot.open(filepath)\n",
    "    tree = file[\"RE03\"]\n",
    "    df = tree.arrays(library=\"pd\")\n",
    "    all_dfs.append(df)\n",
    "\n",
    "# Step 2: Concatenate all DataFrames row-wise\n",
    "combined_df = pd.concat(all_dfs, ignore_index=True)\n",
    "\n",
    "# Step 3: Split into separate DataFrames based on phantomName\n",
    "phantom_dfs = {}\n",
    "for i in range(1, 6):\n",
    "    phantom_label = f\"Phantom{i}\"\n",
    "    phantom_dfs[phantom_label] = combined_df[combined_df[\"phantomName\"] == phantom_label]\n",
    "\n",
    "# Now you can access the five DataFrames like:\n",
    "phantom1_df = phantom_dfs[\"Phantom1\"]\n",
    "phantom2_df = phantom_dfs[\"Phantom2\"]\n",
    "phantom3_df = phantom_dfs[\"Phantom3\"]\n",
    "phantom4_df = phantom_dfs[\"Phantom4\"]\n",
    "phantom5_df = phantom_dfs[\"Phantom5\"]\n",
    "# etc.\n"
   ]
  },
  {
   "cell_type": "code",
   "execution_count": 39,
   "metadata": {},
   "outputs": [
    {
     "data": {
      "text/plain": [
       "<AwkwardExtensionArray>\n",
       "[]\n",
       "Length: 0, dtype: awkward"
      ]
     },
     "execution_count": 39,
     "metadata": {},
     "output_type": "execute_result"
    }
   ],
   "source": [
    "pd.unique(phantom5_df['particleType'])"
   ]
  }
 ],
 "metadata": {
  "kernelspec": {
   "display_name": "vscode (jupyter_env)",
   "language": "python",
   "name": "jupyter_env"
  }
 },
 "nbformat": 4,
 "nbformat_minor": 2
}
